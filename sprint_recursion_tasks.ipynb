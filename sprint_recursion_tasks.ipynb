{
 "cells": [
  {
   "cell_type": "markdown",
   "metadata": {},
   "source": [
    "Функция — процедура, способная возвращать некоторое значение.\n",
    "\n",
    "Когда вызывается функция - под этот вызов выделяется блок памяти, помещаются параметры передаваемые функции и адрес возврата."
   ]
  },
  {
   "cell_type": "code",
   "execution_count": 25,
   "metadata": {},
   "outputs": [
    {
     "data": {
      "text/plain": [
       "102334155"
      ]
     },
     "execution_count": 25,
     "metadata": {},
     "output_type": "execute_result"
    }
   ],
   "source": [
    "'''A. Рекурсивные числа Фибоначчи. '''\n",
    "def fib(n: int) -> int:\n",
    "    F0 = F1 = 1\n",
    "    if n == 1 or n == 2:\n",
    "        return F0\n",
    "    else: \n",
    "        return fib(n-1) + fib(n-2)\n",
    "\n",
    "fib(40)  "
   ]
  },
  {
   "cell_type": "code",
   "execution_count": 26,
   "metadata": {},
   "outputs": [
    {
     "data": {
      "text/plain": [
       "102334155"
      ]
     },
     "execution_count": 26,
     "metadata": {},
     "output_type": "execute_result"
    }
   ],
   "source": [
    "'''B. Фибоначчи с паматью '''\n",
    "cashe = {0: 0, 1: 1, 2: 1 }\n",
    "def fib(n: int) -> int:\n",
    "    if n in cashe:\n",
    "        return cashe[n]\n",
    "    cashe[n] = fib(n-1) + fib(n-2) \n",
    "    return cashe[n]\n",
    "\n",
    "fib(40) "
   ]
  },
  {
   "cell_type": "code",
   "execution_count": 27,
   "metadata": {},
   "outputs": [
    {
     "data": {
      "text/plain": [
       "165580141"
      ]
     },
     "execution_count": 27,
     "metadata": {},
     "output_type": "execute_result"
    }
   ],
   "source": [
    "'''C. Эффективные числа Фибоначчи. '''\n",
    "def fib(n):\n",
    "    a = 0\n",
    "    b = 1\n",
    "    for __ in range(n):\n",
    "        a, b = b, a + b\n",
    "    return b\n",
    "fib(40)"
   ]
  },
  {
   "cell_type": "code",
   "execution_count": 28,
   "metadata": {},
   "outputs": [
    {
     "data": {
      "text/plain": [
       "1"
      ]
     },
     "execution_count": 28,
     "metadata": {},
     "output_type": "execute_result"
    }
   ],
   "source": [
    "'''D. Последняя цифра. '''\n",
    "def fib(n):\n",
    "    a = 0\n",
    "    b = 1\n",
    "    for __ in range(n % 60):\n",
    "        a, b = b, (a + b)%10\n",
    "    return b\n",
    "fib(7)"
   ]
  },
  {
   "cell_type": "code",
   "execution_count": 29,
   "metadata": {},
   "outputs": [
    {
     "data": {
      "text/plain": [
       "120"
      ]
     },
     "execution_count": 29,
     "metadata": {},
     "output_type": "execute_result"
    }
   ],
   "source": [
    "'''E. Кондратиева система шифрования. '''\n",
    "def factorial(n: int) -> int:\n",
    "    if n == 1:\n",
    "        return n    \n",
    "    return n*factorial(n-1)\n",
    "\n",
    "factorial(5)"
   ]
  },
  {
   "cell_type": "code",
   "execution_count": 30,
   "metadata": {},
   "outputs": [
    {
     "data": {
      "text/plain": [
       "120"
      ]
     },
     "execution_count": 30,
     "metadata": {},
     "output_type": "execute_result"
    }
   ],
   "source": [
    "'''F. Циклический факториал. '''\n",
    "def factorial(n: int) -> int:\n",
    "    a = 1\n",
    "    for i in range(2, n + 1):\n",
    "        a *= i\n",
    "    return a\n",
    "\n",
    "factorial(5)"
   ]
  },
  {
   "cell_type": "code",
   "execution_count": 31,
   "metadata": {},
   "outputs": [
    {
     "name": "stdout",
     "output_type": "stream",
     "text": [
      "a\n"
     ]
    }
   ],
   "source": [
    "'''G. Недоалфавит. '''\n",
    "def get_alphabet(letter: str) -> str:\n",
    "    words = ''\n",
    "    cnt = 1\n",
    "    while True:\n",
    "        if letter in words or cnt == 172:\n",
    "            return words\n",
    "            \n",
    "        words += chr(ord('`')+cnt)\n",
    "        cnt += 1\n",
    "\n",
    "print(get_alphabet('a'))"
   ]
  },
  {
   "cell_type": "code",
   "execution_count": 32,
   "metadata": {},
   "outputs": [
    {
     "name": "stdout",
     "output_type": "stream",
     "text": [
      "(())\n",
      "()()\n"
     ]
    }
   ],
   "source": [
    "'''H. Генератор скобок. '''\n",
    "def bracket(count: int, s='', left=0, right=0) -> None:\n",
    "    if left == count and right == count:\n",
    "        print(s)\n",
    "    else:\n",
    "        if left < count:\n",
    "            bracket(count, s + '(', left + 1, right)\n",
    "        if right < left:\n",
    "            bracket(count, s + ')', left, right + 1)\n",
    "bracket(2)"
   ]
  },
  {
   "cell_type": "code",
   "execution_count": 97,
   "metadata": {},
   "outputs": [
    {
     "name": "stdout",
     "output_type": "stream",
     "text": [
      "0\n"
     ]
    }
   ],
   "source": [
    "'''J. Кондратиева Грамматика. '''\n",
    "def func(n: int, k: int, s = '0', c = 1) -> None:\n",
    "    if n == c:\n",
    "        print(s[k - 1])\n",
    "    else:\n",
    "        if c%2 != 0:\n",
    "            func(n, k,  s + '1', c + 1)\n",
    "        else:\n",
    "            func(n, k,  s + '10', c + 1)\n",
    "\n",
    "\n",
    "func(1, 1)"
   ]
  },
  {
   "cell_type": "code",
   "execution_count": null,
   "metadata": {},
   "outputs": [],
   "source": [
    "'''L. Банкомат. '''\n",
    "def func(limit: int, numbers: list[int]) -> None:\n",
    "    cnt = 0\n",
    "    \n",
    "    return\n",
    "\n",
    "func(3, [2, 1])"
   ]
  },
  {
   "cell_type": "code",
   "execution_count": 112,
   "metadata": {},
   "outputs": [
    {
     "name": "stdout",
     "output_type": "stream",
     "text": [
      "4\n"
     ]
    }
   ],
   "source": [
    "'''M. Земельный участок. '''\n",
    "def func(height: int, weight: int) -> int:\n",
    "    while height != 0 and weight != 0:\n",
    "        if height > weight: \n",
    "            height = height % weight\n",
    "        else: \n",
    "            weight = weight % height\n",
    "\n",
    "    print(weight + height)\n",
    "    \n",
    "func(8, 12)"
   ]
  }
 ],
 "metadata": {
  "kernelspec": {
   "display_name": "venv",
   "language": "python",
   "name": "python3"
  },
  "language_info": {
   "codemirror_mode": {
    "name": "ipython",
    "version": 3
   },
   "file_extension": ".py",
   "mimetype": "text/x-python",
   "name": "python",
   "nbconvert_exporter": "python",
   "pygments_lexer": "ipython3",
   "version": "3.11.5"
  },
  "orig_nbformat": 4
 },
 "nbformat": 4,
 "nbformat_minor": 2
}
