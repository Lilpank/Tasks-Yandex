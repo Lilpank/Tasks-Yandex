{
 "cells": [
  {
   "cell_type": "markdown",
   "metadata": {},
   "source": [
    "Резюме\n",
    "\n",
    "Дерево поиска:\n",
    "1. Левое и правое поддеревья, если существуют, являются двоичными деревьями поиска.\n",
    "2. Под произвольным узлом Х слева располагаются узлы со значениями меньше Х.\n",
    "3. Под произвольным узлом Х справа располагаются узлы со значениями больше Х.\n",
    "\n",
    "Сбалансированное дерево, сложность алгоритма логарифмическое\n",
    "- АВЛ-дерево\n",
    "- красно-черное дерево\n",
    "\n",
    "\n"
   ]
  },
  {
   "cell_type": "code",
   "execution_count": null,
   "metadata": {},
   "outputs": [],
   "source": [
    "class Node: \n",
    "    def __init__(self, value, left = None, right = None): \n",
    "        self.value = value \n",
    "        self.right = right \n",
    "        self.left = left\n",
    "        \n",
    "    def __repr__(self) -> str:\n",
    "        return str(self.value)"
   ]
  },
  {
   "cell_type": "code",
   "execution_count": null,
   "metadata": {},
   "outputs": [],
   "source": [
    "def dfs_post_order(node: Node, path = [], max_val = 0):\n",
    "    if node.left:\n",
    "        path = dfs_post_order(node.left, path, max_val)\n",
    "\n",
    "    if node.right:\n",
    "        path = dfs_post_order(node.right, path, max_val)\n",
    "    path += [node]\n",
    "    return path\n",
    "\n",
    "n = Node(1, left=Node(3, left=Node(8, Node(14), Node(15)), right=Node(10, right=Node(3))), \n",
    "         right=Node(5, Node(2), Node(6, Node(0), Node(1))))\n",
    "\n",
    "val = [x.value for x in dfs_post_order(n)]\n",
    "print(max(val))"
   ]
  },
  {
   "cell_type": "code",
   "execution_count": null,
   "metadata": {},
   "outputs": [],
   "source": [
    "n1 = Node(1, Node(2), Node(0))\n",
    "n2 = Node(1, Node(2), Node(0, Node(3), Node(6)))\n",
    "n3 = Node(0, Node(2), Node(7, Node(4, Node(12)), Node(8)))\n",
    "\n",
    "def isHeightBalanced(root, isBalanced=True):\n",
    "    if root is None or not isBalanced:\n",
    "        return 0, isBalanced\n",
    "    \n",
    "    left_height, isBalanced = isHeightBalanced(root.left, isBalanced)\n",
    "\n",
    "    right_height, isBalanced = isHeightBalanced(root.right, isBalanced)\n",
    "\n",
    "    if abs(left_height - right_height) > 1:\n",
    "        isBalanced = False\n",
    "    return max(left_height, right_height) + 1, isBalanced\n",
    "\n",
    "print(isHeightBalanced(n3))\n"
   ]
  },
  {
   "cell_type": "code",
   "execution_count": null,
   "metadata": {},
   "outputs": [],
   "source": [
    "'''E. Деревья - близнецы. '''\n",
    "def check_tree(n1: Node, n2: Node) -> bool:\n",
    "    if n1 is None and n2 is None:\n",
    "        return True\n",
    "        \n",
    "    if n1 is None or n2 is None:\n",
    "        return False\n",
    "    \n",
    "    return check_tree(n1.left, n2.left) and check_tree(n1.right, n2.right)\n",
    "\n",
    "n1 = Node(1, left=Node(2), right=Node(3))\n",
    "n2 = Node(1, left=Node(2), right=Node(3))\n",
    "check_tree(n1, n2)\n",
    "\n",
    "n1 = Node(1, left=Node(3))\n",
    "n2 = Node(1, right=Node(3))\n",
    "check_tree(n1, n2)"
   ]
  },
  {
   "cell_type": "code",
   "execution_count": null,
   "metadata": {},
   "outputs": [],
   "source": [
    "'''F. Вид слева. '''\n",
    "def dfs_left(root: Node) -> [int, list[Node]]:\n",
    "    if root is None:\n",
    "        return\n",
    "    queue = []\n",
    "    queue.append(root)\n",
    "\n",
    "    while(len(queue) > 0):\n",
    "        node = queue.pop(0)\n",
    "        print(node)\n",
    "        if node.left is not None:\n",
    "            queue.append(node.left)\n",
    "        if node.right is not None:\n",
    "            queue.append(node.right)\n",
    "\n",
    "n = Node(1, left=Node(2, left=Node(4), right=Node(5)),\n",
    "        right=Node(3, left=Node(8, left=Node(17),\n",
    "                                right=Node(10, left=Node(14)))))\n",
    "\n",
    "dfs_left(n)\n"
   ]
  },
  {
   "cell_type": "code",
   "execution_count": null,
   "metadata": {},
   "outputs": [],
   "source": [
    "'''C. Генеалогическое дерево. '''\n",
    "def print_level_order(root: Node) -> None:\n",
    "    if root is None:\n",
    "        return\n",
    "    queue = []\n",
    "    queue.append(root)\n",
    "\n",
    "    while(len(queue) > 0):\n",
    "        print(queue[0], end=\" \")\n",
    "        node = queue.pop(0)\n",
    "        if node.left is not None:\n",
    "            queue.append(node.left)\n",
    "        if node.right is not None:\n",
    "            queue.append(node.right)\n",
    "\n",
    "\n",
    "n = Node(36, left=Node(28, left=Node(32), right=Node(17)),\n",
    "         right=Node(54, left=Node(21)))\n",
    "\n",
    "print_level_order(n)"
   ]
  },
  {
   "cell_type": "code",
   "execution_count": null,
   "metadata": {},
   "outputs": [],
   "source": [
    "'''G. Минимальные суммы. '''\n"
   ]
  }
 ],
 "metadata": {
  "kernelspec": {
   "display_name": "venv",
   "language": "python",
   "name": "python3"
  },
  "language_info": {
   "codemirror_mode": {
    "name": "ipython",
    "version": 3
   },
   "file_extension": ".py",
   "mimetype": "text/x-python",
   "name": "python",
   "nbconvert_exporter": "python",
   "pygments_lexer": "ipython3",
   "version": "3.11.5"
  },
  "orig_nbformat": 4
 },
 "nbformat": 4,
 "nbformat_minor": 2
}
