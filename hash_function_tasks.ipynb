{
 "cells": [
  {
   "cell_type": "markdown",
   "metadata": {},
   "source": [
    "Хеш-функция и хеш-таблица.\n",
    "\n",
    "Хеш-функция — функция, которая обеспечивает преобразование входных данных разного типа и произвольной длины в число по определённому алгоритму.\n",
    "\n",
    "Хеш-таблица — структура данных, которая хранит в массиве пары ключ-значение\n"
   ]
  },
  {
   "cell_type": "markdown",
   "metadata": {},
   "source": [
    "Свойства хеш-функций\n",
    "![Alt text](image.png)"
   ]
  },
  {
   "cell_type": "code",
   "execution_count": 22,
   "metadata": {},
   "outputs": [
    {
     "data": {
      "text/plain": [
       "True"
      ]
     },
     "execution_count": 22,
     "metadata": {},
     "output_type": "execute_result"
    }
   ],
   "source": [
    "'''A. Счастливый билет. '''\n",
    "hash_number = {}\n",
    "def kondratiev_transformation(numbers: str) -> int:\n",
    "    if numbers == '1':\n",
    "        return True\n",
    "    \n",
    "    summ = 0\n",
    "    for i in numbers:\n",
    "        if i not in hash_number:\n",
    "            hash_number[i] = int(i)**2\n",
    "            \n",
    "        summ += hash_number[i]\n",
    "    return kondratiev_transformation(str(summ))\n",
    "\n",
    "kondratiev_transformation('19')"
   ]
  },
  {
   "cell_type": "code",
   "execution_count": null,
   "metadata": {},
   "outputs": [],
   "source": [
    "'''B. Легкие числа. '''\n",
    "N = 5\n",
    "primes = [i for i in range(N + 1)]\n",
    " \n",
    "primes[1] = 0\n",
    "\n",
    "i = 2\n",
    "while i < N:\n",
    "    if primes[i] != 0:\n",
    "        j = i + i\n",
    "        while j < N:\n",
    "            primes[j] = 0\n",
    "            j = j + i\n",
    "    i += 1\n",
    "\n",
    "primes = [i for i in primes if i != 0 and i != N]\n",
    "print(len(primes))"
   ]
  }
 ],
 "metadata": {
  "kernelspec": {
   "display_name": "venv",
   "language": "python",
   "name": "python3"
  },
  "language_info": {
   "codemirror_mode": {
    "name": "ipython",
    "version": 3
   },
   "file_extension": ".py",
   "mimetype": "text/x-python",
   "name": "python",
   "nbconvert_exporter": "python",
   "pygments_lexer": "ipython3",
   "version": "3.11.5"
  },
  "orig_nbformat": 4
 },
 "nbformat": 4,
 "nbformat_minor": 2
}
