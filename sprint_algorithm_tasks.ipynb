{
 "cells": [
  {
   "cell_type": "code",
   "execution_count": 2,
   "metadata": {},
   "outputs": [
    {
     "data": {
      "text/plain": [
       "3"
      ]
     },
     "execution_count": 2,
     "metadata": {},
     "output_type": "execute_result"
    }
   ],
   "source": [
    "'''A. Значения функции. '''\n",
    "def polynomial2(a: int, x: int, b: int, c: int) -> int:\n",
    "        '''Return value: ax^2 + b*x + c, algorithm complexity: O(1).'''\n",
    "        return a*pow(x, 2) + b*x + c\n",
    "\n",
    "polynomial2(2, 1, 0, 1)"
   ]
  },
  {
   "cell_type": "code",
   "execution_count": null,
   "metadata": {},
   "outputs": [],
   "source": [
    "'''B. Любители конференций. '''\n",
    "def k_first_number_of_guest_v1(arr: list[int], \n",
    "                                k: int) -> list[int]:\n",
    "    '''Return list of k first guest, algorithm complexity: O(n).'''\n",
    "    count_value_in_arr = {i:arr.count(i) for i in arr}\n",
    "    sort_dict = dict(sorted(count_value_in_arr.items(),\n",
    "                            key=lambda item: item[1])).keys()\n",
    "    sort_dict = list(reversed(sort_dict))\n",
    "    return [i for i in sort_dict[0:k]]\n"
   ]
  },
  {
   "cell_type": "code",
   "execution_count": null,
   "metadata": {},
   "outputs": [],
   "source": [
    "'''C. Списочная форма. '''\n",
    "def numbers_of_sum_x_and_k(x: list[int], k: int) -> list:\n",
    "    '''Return a list of numbers x+k,  algorithm complexity: O(n).'''\n",
    "    value = \" \"\n",
    "    for i in x:\n",
    "        value += str(i)\n",
    "    value = int(value)\n",
    "    value = value + k\n",
    "    return list(str(value))"
   ]
  },
  {
   "cell_type": "code",
   "execution_count": null,
   "metadata": {},
   "outputs": [],
   "source": [
    "'''D. Убрать очки. '''\n",
    "def delete_zeros(numbers: list[int]) -> list:\n",
    "    return [i for i in numbers if i != 0]"
   ]
  },
  {
   "cell_type": "code",
   "execution_count": null,
   "metadata": {},
   "outputs": [],
   "source": [
    "'''E. Работа из дома. '''\n",
    "def transform_binary_number(number) -> list:\n",
    "    binary_number = list()\n",
    "    i = number // 2\n",
    "    v = 0\n",
    "    while i >= 0:\n",
    "        value = pow(2, i)\n",
    "        if v + value <= number:\n",
    "            binary_number.append(1)\n",
    "            v += value\n",
    "        else: \n",
    "            binary_number.append(0)\n",
    "        i -= 1\n",
    "    return binary_number"
   ]
  },
  {
   "cell_type": "code",
   "execution_count": null,
   "metadata": {},
   "outputs": [],
   "source": [
    "'''F. База данных. '''\n",
    "def duplicate_number(numbers: list[int]) -> list:\n",
    "    count_value = {i:numbers.count(i) for i in numbers}\n",
    "    keys = list()\n",
    "    for key, value in count_value.items():\n",
    "        if value > 1:\n",
    "            keys.append(key)\n",
    "    return keys"
   ]
  },
  {
   "cell_type": "code",
   "execution_count": null,
   "metadata": {},
   "outputs": [],
   "source": [
    "'''G. Анаграммы. '''\n",
    "def is_anagram(str1: str, str2: str) -> bool:\n",
    "    if len(str1) != len(str2): return False\n",
    "    letters = dict()\n",
    "\n",
    "    for a1, a2 in zip(str1, str2):\n",
    "        if a1 in letters.keys():\n",
    "            letters[a1] += 1\n",
    "        else: \n",
    "            letters[a1] = 1\n",
    "        \n",
    "        if a2 in letters.keys():\n",
    "            letters[a2] -= 1\n",
    "        else: \n",
    "            letters[a2] = -1\n",
    "\n",
    "    for i in letters.values():\n",
    "        if i != 0:\n",
    "            return False\n",
    "    return True"
   ]
  },
  {
   "cell_type": "code",
   "execution_count": null,
   "metadata": {},
   "outputs": [],
   "source": [
    "'''H. Палиндром. '''\n",
    "def is_polydrom(str1: str) -> bool:\n",
    "    str1 = str1.replace(\" \", \"\")\n",
    "    str1 = str1.replace(\":\", \"\").replace(\",\", \"\").lower()\n",
    "    print(str1)\n",
    "    for i in range(len(str1) - 1):\n",
    "        if str1[i] != str1[-i - 1]:\n",
    "            print(str1[i], str1[-i -1])\n",
    "            return False\n",
    "    return True"
   ]
  },
  {
   "cell_type": "code",
   "execution_count": null,
   "metadata": {},
   "outputs": [],
   "source": [
    "'''J. Обеды. '''\n",
    "def get_number_meets_once(numbers: list[int]) -> int:\n",
    "    '''Return value that meets once. Complexity algorithm O(n)'''\n",
    "    values = {i:numbers.count(i) for i in numbers}\n",
    "    for key, value in values.items():\n",
    "        if value == 1:\n",
    "            return key\n",
    "    return -1"
   ]
  },
  {
   "cell_type": "code",
   "execution_count": null,
   "metadata": {},
   "outputs": [],
   "source": [
    "'''I. Двоичная система. '''\n",
    "def transform_binary_number(func):\n",
    "    def wrap(*args, **kwargs) -> int:\n",
    "        number = args[1]\n",
    "        binary_number = list()\n",
    "        i = number // 2\n",
    "        v = 0\n",
    "        while i >= 0:\n",
    "            value = pow(2, i)\n",
    "            if v + value <= number:\n",
    "                binary_number.append(1)\n",
    "                v += value\n",
    "            else: \n",
    "                binary_number.append(0)\n",
    "            i -= 1\n",
    "        return func(binary_number)\n",
    "    return wrap\n",
    "\n",
    "@transform_binary_number\n",
    "def count_number_1(numbers: list[int]) -> int:\n",
    "    '''Count the number of one'''\n",
    "    return sum(numbers)"
   ]
  },
  {
   "cell_type": "code",
   "execution_count": null,
   "metadata": {},
   "outputs": [],
   "source": [
    "'''L. Лишняя буква. '''\n",
    "def get_extra_letter(\n",
    "        string: str) -> str:\n",
    "    '''Difference between substrings. Complexity algorithm O(n)'''\n",
    "    [str1, str2] = string.split(\" \")\n",
    "    for s in str2:\n",
    "        if s not in str1:\n",
    "            return s\n",
    "    return ''"
   ]
  },
  {
   "cell_type": "code",
   "execution_count": 3,
   "metadata": {},
   "outputs": [
    {
     "data": {
      "text/plain": [
       "'eert'"
      ]
     },
     "execution_count": 3,
     "metadata": {},
     "output_type": "execute_result"
    }
   ],
   "source": [
    "'''M. Частоты. '''\n",
    "def freequency_char(string: str) -> str:\n",
    "    '''Return string that char sorted by desc. Algorithm complexity O(n)'''\n",
    "    frequency_char = {i:string.count(i) for i in string}\n",
    "    sort_by_value = sorted(frequency_char)\n",
    "    string = \"\"\n",
    "    for value in sort_by_value:\n",
    "        string += value*frequency_char[value]\n",
    "\n",
    "    return string\n"
   ]
  },
  {
   "cell_type": "code",
   "execution_count": 5,
   "metadata": {},
   "outputs": [
    {
     "data": {
      "text/plain": [
       "True"
      ]
     },
     "execution_count": 5,
     "metadata": {},
     "output_type": "execute_result"
    }
   ],
   "source": [
    "'''N. Степень четырех. '''\n",
    "def check_power_number(base: int, number: int) -> bool:\n",
    "    '''Checks the number is a power base'''\n",
    "    if number % base == 0: \n",
    "        return True\n",
    "    return False\n",
    "\n",
    "check_power_number(4, 16)"
   ]
  },
  {
   "cell_type": "code",
   "execution_count": null,
   "metadata": {},
   "outputs": [],
   "source": [
    "'''O. И снова Вася. '''\n",
    "def merge_lists(self, arr1: list[int],  \n",
    "                arr2: list[int]) -> list[int]:\n",
    "    '''Return result arr1+arr2 by order asc'''\n",
    "    for i in range(len(arr1) - 1):\n",
    "        for j in range(len(arr2)):\n",
    "            if arr1[i] <= arr2[j]:\n",
    "                arr1 = arr1[0:i+1] + [arr2[j]] + arr1[i+1:len(arr1) - 1*j]\n",
    "    return arr1"
   ]
  },
  {
   "cell_type": "code",
   "execution_count": null,
   "metadata": {},
   "outputs": [],
   "source": [
    "'''P. Комбинации. '''\n",
    "def combine_letter_of_mobile_input(self, number: int) -> list[str]:\n",
    "    '''Return letters combination in mobile keysboard'''\n",
    "    letters = {'2': 'abc', '3': 'def', '4': 'ghi', '5': 'jkl', \n",
    "                '6': 'mno', '7': 'pqrs', '8': 'tuv', '9': 'wxyz'}\n",
    "    digits = str(number)\n",
    "    \n",
    "    def back_track(digits: str, combination: str, res: list):\n",
    "        if digits == '':\n",
    "            res.append(combination)\n",
    "            return\n",
    "        \n",
    "        for letter in letters[digits[0]]:\n",
    "            combination += letter\n",
    "            back_track(digits[1:], combination, res)\n",
    "            combination = combination[:-1]\n",
    "\n",
    "    res = []\n",
    "    back_track(digits, '', res)\n",
    "    return res"
   ]
  },
  {
   "cell_type": "code",
   "execution_count": null,
   "metadata": {},
   "outputs": [],
   "source": [
    "'''Q. Статистика. '''\n",
    "def find_multiple_value(self, coins: list[int]) -> list[str]:\n",
    "    '''Return multiplication value of 3 day where sum is 0 and day have got a 3 coin'''\n",
    "    for i in range(len(coins) - 3):\n",
    "        if (coins[i] + coins[i+1] + coins[i+2]) == 0 and 3 in coins[i:i+3]:\n",
    "            return coins[i]*coins[i+1]*coins[i+2]\n",
    "    return -1"
   ]
  }
 ],
 "metadata": {
  "kernelspec": {
   "display_name": "venv",
   "language": "python",
   "name": "python3"
  },
  "language_info": {
   "codemirror_mode": {
    "name": "ipython",
    "version": 3
   },
   "file_extension": ".py",
   "mimetype": "text/x-python",
   "name": "python",
   "nbconvert_exporter": "python",
   "pygments_lexer": "ipython3",
   "version": "3.11.5"
  },
  "orig_nbformat": 4
 },
 "nbformat": 4,
 "nbformat_minor": 2
}
