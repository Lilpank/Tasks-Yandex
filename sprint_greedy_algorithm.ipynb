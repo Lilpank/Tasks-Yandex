{
 "cells": [
  {
   "cell_type": "markdown",
   "metadata": {},
   "source": [
    "Жадные алгоритмы\n",
    "Алгоритм решает задачу, находя оптимальное решение.\n",
    "\n",
    "Алгоритм делает выбор, основываясь на наилучшем из доступных вариантов.\n",
    "Жадный алгоритм — быстрый с временной сложностью O(n log n) или O(n).\n",
    "Поэтому такие алгоритмы применяются при решении крупномасштабных задач.\n"
   ]
  },
  {
   "cell_type": "code",
   "execution_count": null,
   "metadata": {},
   "outputs": [],
   "source": [
    "'''A. Расписание. '''\n",
    "def optimazation_schedule(lessons: list[float]) -> list[int]:\n",
    "    '''algorithm complexity O(n)'''\n",
    "    schedule = list()\n",
    "    lessons = sorted(lessons, key=lambda x: x[1])\n",
    "    schedule.append(lessons[0])\n",
    "    for lesson in lessons:\n",
    "        if lesson[0] >= schedule[-1][1]:\n",
    "            schedule.append(lesson)\n",
    "    \n",
    "    return schedule\n",
    "        \n",
    "optimazation_schedule([(9, 10),\n",
    "                       (9.3, 10.3),\n",
    "                       (10, 11),\n",
    "                       (10.3, 11.3),\n",
    "                       (11, 12)])\n",
    "\n",
    "optimazation_schedule([(19, 19),\n",
    "                       (7, 14),\n",
    "                       (12, 14),\n",
    "                       (8, 22),\n",
    "                       (22, 23),\n",
    "                       (5, 21),\n",
    "                       (9, 23)])"
   ]
  },
  {
   "cell_type": "code",
   "execution_count": null,
   "metadata": {},
   "outputs": [],
   "source": [
    "'''B. Биржа. '''\n",
    "def optimazation_buying(costs: list[int]) -> int:\n",
    "    money = 0\n",
    "    for i in range(1, len(costs)):\n",
    "        if costs[i - 1] < costs[i]:\n",
    "            money += costs[i] - costs[i-1]\n",
    "    return money\n",
    "\n",
    "optimazation_buying([1, 2, 3, 4, 5])\n",
    "# optimazation_buying([7, 1, 5, 3, 6, 4])\n",
    "# optimazation_buying([1, 12, 12, 16, 1, 8])"
   ]
  },
  {
   "cell_type": "code",
   "execution_count": null,
   "metadata": {},
   "outputs": [],
   "source": [
    "'''C. Последовательность. '''\n",
    "def is_subsequence(letters: str, template: str) -> bool:\n",
    "    count = 0\n",
    "    for i in range(len(letters) - 1):\n",
    "        print(letters[i])\n",
    "        if letters[i] in template[count]:\n",
    "            count += 1\n",
    "\n",
    "    return count == len(template)\n",
    "\n",
    "is_subsequence('ahbgdcu', 'abc')\n",
    "is_subsequence('ahpc', 'abcp')"
   ]
  },
  {
   "cell_type": "code",
   "execution_count": 20,
   "metadata": {},
   "outputs": [
    {
     "name": "stdout",
     "output_type": "stream",
     "text": [
      "26\n",
      "1\n"
     ]
    }
   ],
   "source": [
    "'''D. Ценный рюкзак. '''\n",
    "def fill_backpack(capacity: int, products: list[set]) -> int:\n",
    "    products = sorted(\n",
    "        products, key = lambda value: value[1],\n",
    "        reverse=True\n",
    "        )\n",
    "    \n",
    "    for product in products: \n",
    "        if product[0] <= capacity: \n",
    "            capacity -=  product[0]\n",
    "            \n",
    "    return\n",
    "\n",
    "fill_backpack(36, [(25, 50),(30, 40),(10, 80),(2, 3),])"
   ]
  },
  {
   "cell_type": "code",
   "execution_count": 24,
   "metadata": {},
   "outputs": [
    {
     "data": {
      "text/plain": [
       "1"
      ]
     },
     "execution_count": 24,
     "metadata": {},
     "output_type": "execute_result"
    }
   ],
   "source": [
    "'''E. Печеньки. '''\n",
    "def share_cookies(childrens: int, \n",
    "                factors: list[int], \n",
    "                number_cookies: int,\n",
    "                size_cookies: list[int]) -> int:\n",
    "    cnt_happy_children = 0\n",
    "    for cookie in size_cookies:\n",
    "            if cookie in factors:\n",
    "                  cnt_happy_children += 1\n",
    "                  factors.remove(cookie)\n",
    "\n",
    "    return cnt_happy_children\n",
    "\n",
    "share_cookies(2, [1, 2], 3, [1, 2, 3])\n",
    "share_cookies(3, [1, 2, 3], 2, [1, 1])"
   ]
  },
  {
   "cell_type": "code",
   "execution_count": null,
   "metadata": {},
   "outputs": [],
   "source": [
    "'''F. Осортированные строки. '''\n"
   ]
  },
  {
   "cell_type": "code",
   "execution_count": null,
   "metadata": {},
   "outputs": [],
   "source": [
    "'''G. Закручивающаяся спираль. '''\n",
    "def twist_spiral(arr: list[list]) -> None: \n",
    "    if arr == []: return\n",
    "    if len(arr) == 1 or len(arr[0]) == 1:\n",
    "        for i in arr:\n",
    "            print(*i,  sep='\\n')\n",
    "        return\n",
    "    \n",
    "    print(*arr[0][:], sep='\\n')\n",
    "    for row in range(1, len(arr) - 1):\n",
    "        print(arr[row][-1], sep='\\n')\n",
    "    print(*arr[len(arr) - 1][-1::-1], sep='\\n')\n",
    "    for row in reversed(range(1, len(arr) - 1)):\n",
    "        print(arr[row][0], sep='\\n')\n",
    "\n",
    "    sl = arr[1:len(arr) - 1]\n",
    "    s = list()\n",
    "    for row in sl:\n",
    "        s.append(row[1:len(sl[0]) - 1])\n",
    "    twist_spiral(s)\n",
    "\n",
    "# twist_spiral([[1, 2, 3, 4],\n",
    "#               [5, 6, 7, 8],\n",
    "#               [9, 10, 11, 12]])\n",
    "\n",
    "# twist_spiral([[-4, 3, 7],\n",
    "#               [9, 1, -3],\n",
    "#               [-7, -8, 6],\n",
    "#               [-3, -1, -5],\n",
    "#               [6, 2, 2]])\n",
    "\n",
    "twist_spiral([[-4, 3, 7],\n",
    "              [9, 1, 5, -3],\n",
    "              [-7, -8, 5, 6],\n",
    "              [-3, -1, 5, -5],\n",
    "              [6, 2, 5, 2]])"
   ]
  },
  {
   "cell_type": "code",
   "execution_count": 111,
   "metadata": {},
   "outputs": [
    {
     "data": {
      "text/plain": [
       "3"
      ]
     },
     "execution_count": 111,
     "metadata": {},
     "output_type": "execute_result"
    }
   ],
   "source": [
    "'''H. Возрастающий подмассив. '''\n",
    "def get_len_increasing_subarray(numbers: list[int]) -> int:\n",
    "    cnt = 0\n",
    "    cnts = list()\n",
    "    for i in range(len(numbers) - 1):\n",
    "        if numbers[i+1] > numbers[i]:\n",
    "            cnt += 1 \n",
    "        else: \n",
    "            cnts.append(cnt)\n",
    "            cnt = 0\n",
    "\n",
    "    return max(cnts) + 1\n",
    "\n",
    "get_len_increasing_subarray([5, 6, 3, 5, 7, 8, 9, 1, 2])\n",
    "get_len_increasing_subarray([10, 4, -2, 3, -4, 2])\n",
    "get_len_increasing_subarray([-5, -9, -4, 6, -9, 8, -2])"
   ]
  },
  {
   "cell_type": "code",
   "execution_count": 113,
   "metadata": {},
   "outputs": [
    {
     "data": {
      "text/plain": [
       "5"
      ]
     },
     "execution_count": 113,
     "metadata": {},
     "output_type": "execute_result"
    }
   ],
   "source": [
    "'''J. Последнее слово. '''\n",
    "def get_length_last_word(words: str) -> int:\n",
    "    last_word = words.split(\" \")[-1]\n",
    "    return len(last_word)\n",
    "\n",
    "get_length_last_word('hello world')"
   ]
  },
  {
   "cell_type": "code",
   "execution_count": 115,
   "metadata": {},
   "outputs": [
    {
     "data": {
      "text/plain": [
       "2"
      ]
     },
     "execution_count": 115,
     "metadata": {},
     "output_type": "execute_result"
    }
   ],
   "source": [
    "'''K. Ипотека. '''\n",
    "\n",
    "def get_houses(money: int, cost_houses: list[int]) -> int: \n",
    "    cost_houses = sorted(cost_houses)\n",
    "    cnt = 0\n",
    "    for cost_house in cost_houses:\n",
    "        if cost_house <= money:\n",
    "            money -= cost_house\n",
    "            cnt += 1\n",
    "\n",
    "    return cnt\n",
    "\n",
    "get_houses(300, [999, 999, 999])\n",
    "get_houses(1000, [350, 999, 200])\n"
   ]
  },
  {
   "cell_type": "code",
   "execution_count": null,
   "metadata": {},
   "outputs": [],
   "source": [
    "\n",
    "\n"
   ]
  }
 ],
 "metadata": {
  "kernelspec": {
   "display_name": "venv",
   "language": "python",
   "name": "python3"
  },
  "language_info": {
   "codemirror_mode": {
    "name": "ipython",
    "version": 3
   },
   "file_extension": ".py",
   "mimetype": "text/x-python",
   "name": "python",
   "nbconvert_exporter": "python",
   "pygments_lexer": "ipython3",
   "version": "3.10.2"
  },
  "orig_nbformat": 4
 },
 "nbformat": 4,
 "nbformat_minor": 2
}
