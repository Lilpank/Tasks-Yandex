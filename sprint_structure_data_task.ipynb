{
 "cells": [
  {
   "cell_type": "markdown",
   "metadata": {},
   "source": [
    "Внутренняя реализация set основана на хеш-таблицах. \n",
    "Большинство неизменяемых типов в Python (int, float, str, bool, и т.д.) – хешируемые.\n",
    "https://ru.wikipedia.org/wiki/%D0%A5%D0%B5%D1%88-%D1%82%D0%B0%D0%B1%D0%BB%D0%B8%D1%86%D0%B0\n",
    "\n",
    "Тип set в Python является подтипом Collection. \n",
    "Следствия: \n",
    "1. Определена операция проверки принадлежности элемента множеству\n",
    "2. Можно получить количество элементов в множестве\n",
    "3. Множества являются iterable-объектами\n",
    "\n",
    "Объединения множеств: \n",
    "1. result_set = first_set | second_set\n",
    "2. result_set: set = first_set.union(list(second_set))\n",
    "\n",
    "Пересечения множеств:\n",
    "1. result_set = first_set & second_set - требуется чтобы оба объекты были типа set.\n",
    "2. intesection - принимает любой iterable-объект\n",
    "\n",
    "Разность двух множеств:\n",
    "1. result_set = first_set - second_set\n",
    "2. result_set = first_set.difference(second_set) - для iterable-объектов.\n",
    "\n",
    "Удаление элемента:\n",
    "1. set_collection.discard(\"element\")\n",
    "2. set_collection.remove(\"element\") - генерирует исключение\n",
    "\n",
    "Ассоциативный массив - {key: value}\n",
    "\n",
    "Коллизия - для различных ключей получается одно и то же хеш-значение.\n",
    "\n",
    "Решение коллизий: https://neerc.ifmo.ru/wiki/index.php?title=%D0%A0%D0%B0%D0%B7%D1%80%D0%B5%D1%88%D0%B5%D0%BD%D0%B8%D0%B5_%D0%BA%D0%BE%D0%BB%D0%BB%D0%B8%D0%B7%D0%B8%D0%B9\n",
    "1. Метод списков\n",
    "2. Открытая адресация\n",
    "\n",
    "\n",
    "Объекты пользовательских классов являются хешируемыми по умолчанию. Но также объекты содержат уникальный адрес в памяти, что позволяет эффективнее сравнивать объекты."
   ]
  },
  {
   "cell_type": "markdown",
   "metadata": {},
   "source": [
    "Списки, словари - это изменяемые объекты, которые не хешируются."
   ]
  },
  {
   "cell_type": "code",
   "execution_count": 1,
   "metadata": {},
   "outputs": [
    {
     "data": {
      "text/plain": [
       "['8',\n",
       " 'вышивание крестиком',\n",
       " 'рисование мелками на парте',\n",
       " 'настольный керлингнастольный керлинг',\n",
       " 'кухня африканского племени ужасмай',\n",
       " 'тяжелая атлетика',\n",
       " 'таракановедение']"
      ]
     },
     "execution_count": 1,
     "metadata": {},
     "output_type": "execute_result"
    }
   ],
   "source": [
    "'''A. Кружки. '''\n",
    "duplicates_courses = ['8', 'вышивание крестиком', 'рисование мелками на парте', 'настольный керлинг'\n",
    "                    'настольный керлинг', 'кухня африканского племени ужасмай', \n",
    "                    'тяжелая атлетика', 'таракановедение', 'таракановедение']\n",
    "\n",
    "'''Algorithm complexity O(logn)'''\n",
    "set(duplicates_courses) \n",
    "\n",
    "unique = list()\n",
    "'''Algorithm complexity: O(n)'''\n",
    "for course in duplicates_courses:\n",
    "    if not course in unique:\n",
    "        unique.append(course)\n",
    "unique"
   ]
  },
  {
   "cell_type": "code",
   "execution_count": null,
   "metadata": {},
   "outputs": [],
   "source": [
    "'''B. Мониторинг. '''\n",
    "def transpose(matrix: list[list]) -> list[list]:\n",
    "    '''Algorithm complexity: O(n**2)'''\n",
    "    mat = [[0 for x in range(len(matrix))] for j in range(len(matrix[0]))]\n",
    "    for row in range(len(matrix)):\n",
    "        for column in range(len(matrix[0])):\n",
    "            mat[column][row] = matrix[row][column] \n",
    "    return mat\n",
    "\n",
    "transpose([[1, 2, 3],\n",
    "           [0, 2, 6],\n",
    "           [7, 4, 1],\n",
    "           [2, 7, 0]])\n",
    "\n",
    "transpose([[-7, -1, 0, -4, -9],\n",
    "           [5, -1, 2, 2, 9],\n",
    "           [3, 1, -8, -1, -7],\n",
    "           [9, 0, 8, -8, -1],\n",
    "           [2, 4, 5, 2, 8],\n",
    "           [-7, 10, 0, -4, -8],\n",
    "           [-3, 10, -7, 10, 3],\n",
    "           [1, 6, -7, -5, 9],\n",
    "           [-1, 9, 9, 1, 9]\n",
    "         ])"
   ]
  },
  {
   "cell_type": "code",
   "execution_count": null,
   "metadata": {},
   "outputs": [],
   "source": [
    "'''C. Подстроки. '''\n",
    "def count_letters_unique_substring(word: str) -> int:\n",
    "    '''Algorithm complexity: O(n)'''\n",
    "    values = set()\n",
    "    counts = list()\n",
    "    for letter in word:\n",
    "        if letter not in values: \n",
    "            values.add(letter) # add O(1)\n",
    "        else: \n",
    "            counts.append(len(values)) # append O(1)\n",
    "            values = set()\n",
    "    return max(counts)\n",
    "\n",
    "count_letters_unique_substring('abcabcbb')\n",
    "count_letters_unique_substring('bbbbbbb')\n"
   ]
  },
  {
   "cell_type": "code",
   "execution_count": null,
   "metadata": {},
   "outputs": [],
   "source": [
    "'''D. Соседи. '''\n",
    "def find_neightbors_matrix_element(matrix: list[list], xy: list[int])-> list[int]:\n",
    "    def bubble_sort(arr: list):\n",
    "        '''Bubble sort algorithm complexity O(n**2)'''\n",
    "        for i in range(len(arr) - 1):\n",
    "            for j in range(len(arr) - i - 1):\n",
    "                if arr[j] > arr[j+1]:\n",
    "                    arr[j], arr[j+1] = arr[j+1], arr[j]\n",
    "        return arr\n",
    "    \n",
    "    numbers = list()\n",
    "    x, y = xy\n",
    "    row = len(matrix) - 1\n",
    "    column = len(matrix[0]) - 1\n",
    "    if (x - 1) >= 0: numbers.append(matrix[x-1][y])\n",
    "    if (y + 1) <= column: numbers.append(matrix[x][y+1])\n",
    "    if (y - 1) >= 0: numbers.append(matrix[x][y-1])\n",
    "    if (x + 1) <= row: numbers.append(matrix[x+1][y])\n",
    "\n",
    "    return bubble_sort(numbers)\n",
    "\n",
    "print(find_neightbors_matrix_element([[1, 2, 3],\n",
    "                                [0, 2, 6], \n",
    "                                [7, 4, 1], \n",
    "                                [2, 7, 0]],\n",
    "                                [3, 2])\n",
    "                                )\n",
    "\n",
    "print(find_neightbors_matrix_element([[1, 2, 3],\n",
    "                                [0, 2, 6], \n",
    "                                [7, 4, 1], \n",
    "                                [2, 7, 0]],\n",
    "                                [0, 0])\n",
    "                                )"
   ]
  },
  {
   "cell_type": "code",
   "execution_count": 86,
   "metadata": {},
   "outputs": [
    {
     "name": "stdout",
     "output_type": "stream",
     "text": [
      "3\n",
      "2\n",
      "1\n"
     ]
    }
   ],
   "source": [
    "'''E. Список дел. '''\n",
    "class Node:\n",
    "    def __init__(self, value, next_time=None) -> None:\n",
    "        self.value = value\n",
    "        self.next_time = next_time\n",
    "\n",
    "def print_node(head_node: type[Node]) -> None:\n",
    "    while head_node != None:\n",
    "        print(head_node.value)\n",
    "        head_node = head_node.next_time\n",
    "\n",
    "first = Node('1')\n",
    "second = Node('2', first)\n",
    "third = Node('3', second)\n",
    "print_node(third)"
   ]
  },
  {
   "cell_type": "code",
   "execution_count": 93,
   "metadata": {},
   "outputs": [
    {
     "name": "stdout",
     "output_type": "stream",
     "text": [
      "3\n",
      "2\n",
      "1\n"
     ]
    }
   ],
   "source": [
    "'''F. Нелюбимое дело. '''\n",
    "def remove_node(head: type[Node], index: int) -> type[Node]:\n",
    "    if index == 0: return head.next_time\n",
    "    temp = head\n",
    "    for i in range(index - 1):\n",
    "        if temp == None: return -1\n",
    "        temp = temp.next_time\n",
    "    \n",
    "    temp.next_time = temp.next_time.next_time\n",
    "    return head\n",
    "\n",
    "first = Node('1', Node('0'))\n",
    "second = Node('2', first)\n",
    "third = Node('3', second)\n",
    "print_node(remove_node(third, 3))\n",
    "# structure: node3 -> node2 -> node1 -> node0\n"
   ]
  },
  {
   "cell_type": "code",
   "execution_count": 96,
   "metadata": {},
   "outputs": [
    {
     "data": {
      "text/plain": [
       "2"
      ]
     },
     "execution_count": 96,
     "metadata": {},
     "output_type": "execute_result"
    }
   ],
   "source": [
    "'''G. Заботливая мама. '''\n",
    "from typing import Any\n",
    "def find_element(head: type[Node], value: type[Any]) -> type[Node]:\n",
    "    index = 0\n",
    "    while head:\n",
    "        if head.value == value: \n",
    "            return index\n",
    "        head = head.next_time\n",
    "        index += 1\n",
    "\n",
    "    return -1\n",
    "\n",
    "first = Node('1', Node('0'))\n",
    "second = Node('2', first)\n",
    "third = Node('3', second)\n",
    "find_element(third, '1')"
   ]
  },
  {
   "cell_type": "code",
   "execution_count": 124,
   "metadata": {},
   "outputs": [
    {
     "name": "stdout",
     "output_type": "stream",
     "text": [
      "0\n"
     ]
    }
   ],
   "source": [
    "'''H. Все наоборот. '''\n",
    "class DoubleConnectedNode:\n",
    "    def __init__(self, value, next=None, prev=None) -> None:\n",
    "        self.value = value\n",
    "        self.next = next\n",
    "        self.prev = prev\n",
    "    \n",
    "def swap(node): \n",
    "    prev = node.prev\n",
    "    node.prev = node.next\n",
    "    node.next = prev\n",
    "\n",
    "def reverse(head: type[DoubleConnectedNode]):\n",
    "    prev = None\n",
    "    curr = head\n",
    "    while curr:\n",
    "        swap(curr)\n",
    "        prev = curr\n",
    "        curr = curr.prev\n",
    "\n",
    "    if prev:\n",
    "        head = prev\n",
    " \n",
    "    return head\n",
    " \n",
    "    \n",
    "def print_node(head: type[DoubleConnectedNode]):\n",
    "    while head != None:\n",
    "        print(head.value)\n",
    "        head = head.next\n",
    "\n",
    "\n",
    "zero = DoubleConnectedNode('0')\n",
    "first = DoubleConnectedNode('1') \n",
    "second = DoubleConnectedNode('2')\n",
    "third = DoubleConnectedNode('3')\n",
    "\n",
    "first.next = zero\n",
    "first.prev = second\n",
    "\n",
    "second.next = first\n",
    "second.prev = third\n",
    "\n",
    "third.next = second\n",
    "\n",
    "print_node(reverse(third))"
   ]
  },
  {
   "cell_type": "code",
   "execution_count": 150,
   "metadata": {},
   "outputs": [
    {
     "name": "stdout",
     "output_type": "stream",
     "text": [
      "[7, -2]\n",
      "7\n"
     ]
    }
   ],
   "source": [
    "'''I. Стек - Max'''\n",
    "class Stack:\n",
    "     def __init__(self):\n",
    "         self.items = []\n",
    "\n",
    "     def isEmpty(self):\n",
    "         return self.items == []\n",
    "\n",
    "     def push(self, item):\n",
    "         self.items.append(item)\n",
    "\n",
    "     def pop(self):\n",
    "         return self.items.pop()\n",
    "\n",
    "     def peek(self):\n",
    "         return self.items[len(self.items)-1]\n",
    "\n",
    "     def size(self):\n",
    "         return len(self.items) \n",
    "     \n",
    "     def __str__(self) -> str:\n",
    "         return str(self.items)\n",
    "\n",
    "class StackMax(Stack):\n",
    "    def get_max(self):\n",
    "        return None if self.isEmpty() else max(self.items) \n",
    "\n",
    "    \n",
    "st = StackMax()\n",
    "st.push(7)\n",
    "st.pop\n",
    "st.push(-2)\n",
    "print(st.items)\n",
    "print(st.get_max())"
   ]
  },
  {
   "cell_type": "code",
   "execution_count": 159,
   "metadata": {},
   "outputs": [
    {
     "name": "stdout",
     "output_type": "stream",
     "text": [
      "3\n"
     ]
    }
   ],
   "source": [
    "'''J. Стек - MaxEffective. '''\n",
    "class StackMaxEffective(Stack):\n",
    "    def __init__(self):\n",
    "        self.max = 0\n",
    "        super().__init__()\n",
    "\n",
    "    def push(self, item):\n",
    "        self.max = item if (self.max < item) else self.max\n",
    "        self.items.append(item)\n",
    "\n",
    "    def get_max(self):\n",
    "        return self.max\n",
    "\n",
    "\n",
    "o = StackMaxEffective()\n",
    "o.push(1)\n",
    "o.push(2)\n",
    "o.push(3)\n",
    "o.push(1)\n",
    "print(o.get_max())"
   ]
  },
  {
   "cell_type": "code",
   "execution_count": 178,
   "metadata": {},
   "outputs": [
    {
     "name": "stdout",
     "output_type": "stream",
     "text": [
      "{1}\n",
      "set()\n"
     ]
    },
    {
     "data": {
      "text/plain": [
       "set()"
      ]
     },
     "execution_count": 178,
     "metadata": {},
     "output_type": "execute_result"
    }
   ],
   "source": [
    "'''K. Уникальный Стек. '''\n",
    "class StackSet(Stack):\n",
    "    def __init__(self):\n",
    "        self.items = set()\n",
    "    \n",
    "    def push(self, item):\n",
    "        self.items.add(item)\n",
    "    \n",
    "    def isEmpty(self):\n",
    "        return self.items == set()\n",
    "    \n",
    "    def peek(self):\n",
    "        if self.isEmpty(): return set()\n",
    "        return list(self.items)[-1]\n",
    "    \n",
    "stack = StackSet()\n",
    "stack.push(1)\n",
    "print(stack)\n",
    "stack.pop()\n",
    "print(stack)\n",
    "stack.peek()\n",
    "\n",
    "\n"
   ]
  },
  {
   "cell_type": "code",
   "execution_count": 193,
   "metadata": {},
   "outputs": [
    {
     "name": "stdout",
     "output_type": "stream",
     "text": [
      "[1, 1, 1, 1, 1, 1]\n",
      "[1, 0, 1, 0, 0, 1]\n"
     ]
    },
    {
     "data": {
      "text/plain": [
       "False"
      ]
     },
     "execution_count": 193,
     "metadata": {},
     "output_type": "execute_result"
    }
   ],
   "source": [
    "'''L. Скобочная последовательность. '''\n",
    "def is_correct_bracket_sequence(sequence: str) -> bool:\n",
    "    if len(sequence) == 0: return True\n",
    "\n",
    "    brackets = {'{': 0, '}': 0, '[': 0, ']': 0, '(': 0, ')': 0}\n",
    "    for i in sequence: \n",
    "        brackets[i] += 1\n",
    "    \n",
    "    counts = list(brackets.values())\n",
    "    if all(counts) != counts[0]: return False\n",
    "    return True\n",
    "\n",
    "is_correct_bracket_sequence(\"{[()]}\")\n",
    "is_correct_bracket_sequence(\"{[)\")"
   ]
  },
  {
   "cell_type": "markdown",
   "metadata": {},
   "source": [
    "Очередь. FIFO.\n",
    " \n"
   ]
  },
  {
   "cell_type": "code",
   "execution_count": 213,
   "metadata": {},
   "outputs": [
    {
     "data": {
      "text/plain": [
       "-2"
      ]
     },
     "execution_count": 213,
     "metadata": {},
     "output_type": "execute_result"
    }
   ],
   "source": [
    "'''M. Очередь. '''\n",
    "class MyQueue:\n",
    "    def __init__(self) -> None:\n",
    "        self.items = list()\n",
    "    \n",
    "    def pop(self):\n",
    "        return self.items.pop(0)\n",
    "\n",
    "    def isEmpty(self):\n",
    "        return self.items == []\n",
    "    \n",
    "    def peek(self):\n",
    "        if self.isEmpty(): return []\n",
    "        return self.items[0]\n",
    "\n",
    "    def size(self):\n",
    "        return len(self.items)\n",
    "\n",
    "    def push(self, item):\n",
    "        self.items = [item] + self.items\n",
    "        return self.items\n",
    "\n",
    "queue = MyQueue()\n",
    "queue.size()\n",
    "queue.push(0)\n",
    "queue.pop()\n",
    "queue.push(2)\n",
    "queue.size()\n",
    "queue.push(-2)\n",
    "queue.pop()"
   ]
  },
  {
   "cell_type": "code",
   "execution_count": 221,
   "metadata": {},
   "outputs": [
    {
     "data": {
      "text/plain": [
       "2"
      ]
     },
     "execution_count": 221,
     "metadata": {},
     "output_type": "execute_result"
    }
   ],
   "source": [
    "'''N. Ограниченная очередь. '''\n",
    "class MyQueueSized(MyQueue):\n",
    "    def __init__(self, max_size) -> None:\n",
    "        self.max_size = max_size\n",
    "        super().__init__()\n",
    "\n",
    "    def push(self, item):\n",
    "        if self.size() >= self.max_size: raise Exception(\"error\")\n",
    "        self.items = [item] + self.items\n",
    "        return self.items\n",
    "\n",
    "queue = MyQueueSized(2)\n",
    "queue.peek()\n",
    "queue.push(5)\n",
    "queue.push(2)\n",
    "queue.peek()\n",
    "queue.size()"
   ]
  },
  {
   "cell_type": "code",
   "execution_count": 258,
   "metadata": {},
   "outputs": [
    {
     "data": {
      "text/plain": [
       "1"
      ]
     },
     "execution_count": 258,
     "metadata": {},
     "output_type": "execute_result"
    }
   ],
   "source": [
    "'''O. Шифрование. '''\n",
    "def count_anagram(letters: str, template_anagram: str) -> int:\n",
    "    '''Algorithm complexity O(n*m), m << n'''\n",
    "    count = 0\n",
    "    dict_template_anagram = {}\n",
    "    for i in template_anagram:\n",
    "        dict_template_anagram.update({i: 0}) \n",
    "\n",
    "    def count_letter_anagram(i):\n",
    "        d = dict_template_anagram.copy()\n",
    "        if letters[i] in template_anagram:\n",
    "            for j in range(len(template_anagram)):\n",
    "                if letters[i + j] in dict_template_anagram.keys():\n",
    "                    d[letters[i+j]] += 1\n",
    "                else: break\n",
    "        return d\n",
    "\n",
    "    for i in range(len(letters) - len(template_anagram) + 1): \n",
    "        if letters[i] in template_anagram:\n",
    "            d = count_letter_anagram(i)\n",
    "            if all(d.values()) == 1: count += 1\n",
    "    return count\n",
    "\n",
    "# count_anagram(\"cba\", \"abc\")\n",
    "# count_anagram(\"abcsdfacba\", \"abc\")\n",
    "count_anagram(\"abcsdfacba\", \"abcf\")\n",
    "# count_anagram(\"abcsdfacba\", \"ab\")\n"
   ]
  },
  {
   "cell_type": "code",
   "execution_count": null,
   "metadata": {},
   "outputs": [],
   "source": [
    "'''P. Списочная очередь'''\n",
    "class deque:\n",
    "    def __init__(self) -> None:\n",
    "        self.items = []\n",
    "\n",
    "    def put(self, item): \n",
    "        self.items.append(item)\n",
    "    \n",
    "    def size(self): \n",
    "        return len(self.items)\n",
    "    \n",
    "    def get(self):\n",
    "        return self.items"
   ]
  }
 ],
 "metadata": {
  "kernelspec": {
   "display_name": "venv",
   "language": "python",
   "name": "python3"
  },
  "language_info": {
   "codemirror_mode": {
    "name": "ipython",
    "version": 3
   },
   "file_extension": ".py",
   "mimetype": "text/x-python",
   "name": "python",
   "nbconvert_exporter": "python",
   "pygments_lexer": "ipython3",
   "version": "3.10.2"
  },
  "orig_nbformat": 4
 },
 "nbformat": 4,
 "nbformat_minor": 2
}
